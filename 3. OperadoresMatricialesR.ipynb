{
 "cells": [
  {
   "cell_type": "markdown",
   "metadata": {},
   "source": [
    "# Operaciones Matriciales y Álegra Lineal\n",
    "\n",
    "\n",
    "# 1. Operaciones Matriciales\n",
    "\n",
    "<table>\n",
    "<thead>\n",
    "<tr>\n",
    "<th>Operación</th>\n",
    "<th>Operador</th>\n",
    "</tr>\n",
    "</thead>\n",
    "<tbody>\n",
    "<tr>\n",
    "<td>Adición</td>\n",
    "<td><strong>+</strong></td>\n",
    "</tr>\n",
    "<tr>\n",
    "<td>Sustracción</td>\n",
    "<td><strong>-</strong></td>\n",
    "</tr>\n",
    "<tr>\n",
    "<td>Multiplicación por un escalar</td>\n",
    "<td><strong>*</strong></td>\n",
    "</tr>\n",
    "<tr>\n",
    "<td>Producto de Matrices</td>\n",
    "<td><strong>%*%</strong></td>\n",
    "</tr>\n",
    "</tbody>\n",
    "</table>"
   ]
  },
  {
   "cell_type": "code",
   "execution_count": null,
   "metadata": {},
   "outputs": [],
   "source": [
    "#Producto interno\n",
    "\n",
    "aaa <- c(1,2,3)\n",
    "bbb <- c(2,3,4)\n",
    "\n",
    "aaa %*% bbb"
   ]
  },
  {
   "cell_type": "code",
   "execution_count": null,
   "metadata": {},
   "outputs": [],
   "source": [
    "#Producto Matricial\n",
    "A <- matrix (1:6, nrow=2)\n",
    "print(A)"
   ]
  },
  {
   "cell_type": "code",
   "execution_count": null,
   "metadata": {},
   "outputs": [],
   "source": [
    "#Producto Matricial\n",
    "B <- matrix (4:9, nrow=3)\n",
    "print(B)"
   ]
  },
  {
   "cell_type": "code",
   "execution_count": null,
   "metadata": {},
   "outputs": [],
   "source": [
    "print(A %*% B) "
   ]
  },
  {
   "cell_type": "code",
   "execution_count": null,
   "metadata": {},
   "outputs": [],
   "source": [
    "print(B %*% A) "
   ]
  },
  {
   "cell_type": "code",
   "execution_count": null,
   "metadata": {},
   "outputs": [],
   "source": [
    "#potencia de una matri<\n",
    "C <- B %*% A\n",
    "\n",
    "print(C %*% C %*% C)"
   ]
  },
  {
   "cell_type": "code",
   "execution_count": null,
   "metadata": {},
   "outputs": [],
   "source": [
    "#Nota: Para una potencia de orden superior se pueden usar paquetes como \"Biodem\"\n",
    "# mtx.exp(C, 3)"
   ]
  },
  {
   "cell_type": "markdown",
   "metadata": {},
   "source": [
    "## 2. Algebra Lineal\n",
    "\n",
    "<table>\n",
    "<thead>\n",
    "<tr>\n",
    "<th>OPERACIÓN</th>\n",
    "<th>SINTAXIS</th>\n",
    "</tr>\n",
    "</thead>\n",
    "<tbody>\n",
    "<tr>\n",
    "<td>Transpuesta</td>\n",
    "<td><strong>t()</strong></td>\n",
    "</tr>\n",
    "<tr>\n",
    "<td>Diagonal</td>\n",
    "<td><strong>diag()</strong></td>\n",
    "</tr>\n",
    "<tr>\n",
    "<td>Determinante</td>\n",
    "<td><strong>det()</strong></td>\n",
    "</tr>\n",
    "<tr>\n",
    "<td>Inversa</td>\n",
    "<td><strong>solve()</strong></td>\n",
    "</tr>\n",
    "<tr>\n",
    "<td>Descomposición QR</td>\n",
    "<td><strong>qr()</strong></td>\n",
    "</tr>\n",
    "<tr>\n",
    "<td>Rango</td>\n",
    "<td><strong> qr()$rank </strong></td>\n",
    "</tr>\n",
    "<tr>\n",
    "<td>Descomposición de cholesky</td>\n",
    "<td><strong>chol()</strong></td>\n",
    "</tr>\n",
    "</tbody>\n",
    "</tr>\n",
    "<tr>\n",
    "<td>Producto de Kronecker</td>\n",
    "<td><strong>kronecker()</strong></td>\n",
    "</tr>\n",
    "</tbody>\n",
    "</table>"
   ]
  },
  {
   "cell_type": "code",
   "execution_count": null,
   "metadata": {},
   "outputs": [],
   "source": [
    "A <- matrix(c(1,2,3,7,6,4,9,1,8), ncol=3)\n",
    "B <- matrix(c(1,5,6,9), byrow=TRUE, ncol=2)\n",
    "print(A)\n",
    "print(B)"
   ]
  },
  {
   "cell_type": "code",
   "execution_count": null,
   "metadata": {},
   "outputs": [],
   "source": [
    "#diagonal\n",
    "diag(A)\n",
    "diag(B)"
   ]
  },
  {
   "cell_type": "code",
   "execution_count": null,
   "metadata": {},
   "outputs": [],
   "source": [
    "#traza\n",
    "sum(diag(A))\n",
    "sum(diag(B))"
   ]
  },
  {
   "cell_type": "code",
   "execution_count": null,
   "metadata": {},
   "outputs": [],
   "source": [
    "#determinante\n",
    "det(A)\n",
    "det(B)"
   ]
  },
  {
   "cell_type": "code",
   "execution_count": null,
   "metadata": {},
   "outputs": [],
   "source": [
    "#inversa\n",
    "solve(A)\n",
    "\n",
    "solve(B)"
   ]
  },
  {
   "cell_type": "code",
   "execution_count": null,
   "metadata": {
    "scrolled": false
   },
   "outputs": [],
   "source": [
    "#producto de kronecker\n",
    "\n",
    "print(kronecker(A,B))"
   ]
  },
  {
   "cell_type": "code",
   "execution_count": null,
   "metadata": {},
   "outputs": [],
   "source": [
    "print(kronecker(B,A))"
   ]
  },
  {
   "cell_type": "markdown",
   "metadata": {},
   "source": [
    "### Ejemplo 1: Sistema de ecuaciones lineales\n",
    "\n",
    "Un sistema general de $m$ ecuaciones lineales con $n$  incógnitas puede escribirse como\n",
    "\n",
    "$$\\begin{aligned}\n",
    "a_{11} x_{1}+a_{12} x_{2}+\\cdots+a_{1 n} x_{n} &=b_{1} \\\\\n",
    "a_{21} x_{1}+a_{22} x_{2}+\\cdots+a_{2 n} x_{n} &=b_{2} \\\\\n",
    "& \\vdots \\\\\n",
    "a_{m 1} x_{1}+a_{m 2} x_{2}+\\cdots+a_{m n} x_{n} &=b_{m}\n",
    "\\end{aligned}$$\n",
    "\n",
    "donde $x_{1},x_{2},\\ldots ,x_{n}$ son las incógnitas, $a_{11},a_{12},\\ldots ,a_{mn}$ son los coeficientes del sistema, and $b_{1},b_{2},\\ldots ,b_{m}$ son términos constantes.\n",
    "\n",
    "Es posible reescribir el sistema separando los coeficientes con notación matricial\n",
    "\n",
    "$$\\left[\\begin{array}{cccc}\n",
    "a_{11} & a_{12} & \\cdots & a_{1 n} \\\\\n",
    "a_{21} & a_{22} & \\cdots & a_{2 n} \\\\\n",
    "\\vdots & \\vdots & \\ddots & \\vdots \\\\\n",
    "a_{m 1} & a_{m 2} & \\cdots & a_{m n}\n",
    "\\end{array}\\right]\\left[\\begin{array}{c}\n",
    "x_{1} \\\\\n",
    "x_{2} \\\\\n",
    "\\vdots \\\\\n",
    "x_{n}\n",
    "\\end{array}\\right]=\\left[\\begin{array}{c}\n",
    "b_{1} \\\\\n",
    "b_{2} \\\\\n",
    "\\vdots \\\\\n",
    "b_{m}\n",
    "\\end{array}\\right]$$\n",
    "\n",
    "que se puede representar como\n",
    "\n",
    "$$\n",
    "\\mathbf {A}\\mathbf {x}=\\mathbf {b}\n",
    "$$\n",
    "\n",
    "donde $\\mathbf {A}$ es una matriz $m \\times n$,  $\\mathbf {x}$ es un vector columna de longitud $n$ y $\\mathbf {b}$ es otro vector columna de longitud $m$.\n",
    "\n",
    "Si la matriz  $\\mathbf {A}$ es no singular entonces tendrá solución única de la forma\n",
    "\n",
    "$$\n",
    "\\mathbf {x}=\\mathbf {A}^{-1} \\mathbf {b}\n",
    "$$\n",
    "\n",
    "Un ejemplo numérico\n",
    "\n",
    "$$\\begin{array}{l}\n",
    "2x+y=4 \\\\\n",
    "3x-y=1\n",
    "\\end{array}$$\n",
    "\n",
    "\n",
    "Si resolvemos \n",
    "$$\\begin{align*}\n",
    "\\begin{bmatrix}2 & 1\\\\\n",
    "3 & -1\n",
    "\\end{bmatrix}\\begin{bmatrix}x\\\\\n",
    "y\n",
    "\\end{bmatrix} & =\\begin{bmatrix}4\\\\\n",
    "1\n",
    "\\end{bmatrix}\\\\\n",
    "\\begin{bmatrix}x\\\\\n",
    "y\n",
    "\\end{bmatrix} & =\\begin{bmatrix}2 & 1\\\\\n",
    "3 & -1\n",
    "\\end{bmatrix}^{-1}\\begin{bmatrix}4\\\\\n",
    "1\n",
    "\\end{bmatrix}\\\\\n",
    " & =\\frac{1}{(-1)(2)-(1)(3)}\\begin{bmatrix}-1 & -1\\\\\n",
    "-3 & 2\n",
    "\\end{bmatrix}\\begin{bmatrix}4\\\\\n",
    "1\n",
    "\\end{bmatrix}\\\\\n",
    " & =-\\frac{1}{5}\\begin{bmatrix}-1 & -1\\\\\n",
    "-3 & 2\n",
    "\\end{bmatrix}\\begin{bmatrix}4\\\\\n",
    "1\n",
    "\\end{bmatrix}\\\\\n",
    " & =-\\frac{1}{5}\\begin{bmatrix}(-1)(4)+(-1)(1)\\\\\n",
    "(-3)(4)+(2)(1)\n",
    "\\end{bmatrix}\\\\\n",
    " & =-\\frac{1}{5}\\begin{bmatrix}-5\\\\\n",
    "-10\n",
    "\\end{bmatrix}\\\\\n",
    "\\begin{bmatrix}x\\\\\n",
    "y\n",
    "\\end{bmatrix} & =\\begin{bmatrix}1\\\\\n",
    "2\n",
    "\\end{bmatrix}\n",
    "\\end{align*}\n",
    "$$"
   ]
  },
  {
   "cell_type": "code",
   "execution_count": null,
   "metadata": {},
   "outputs": [],
   "source": [
    "#implementar en R\n",
    "A <- matrix(c(2,1,3,-1),byrow=TRUE,ncol=2)\n",
    "print(A)"
   ]
  },
  {
   "cell_type": "code",
   "execution_count": null,
   "metadata": {},
   "outputs": [],
   "source": [
    "b <- c(4,1)"
   ]
  },
  {
   "cell_type": "code",
   "execution_count": null,
   "metadata": {},
   "outputs": [],
   "source": [
    "#usando solve(A) \n",
    "x <- solve(A) %*% b\n",
    "print()"
   ]
  },
  {
   "cell_type": "code",
   "execution_count": null,
   "metadata": {},
   "outputs": [],
   "source": [
    "#usando solve(A,b)\n",
    "x <- solve(A,b)\n",
    "print(x)"
   ]
  }
 ],
 "metadata": {
  "kernelspec": {
   "display_name": "R",
   "language": "R",
   "name": "ir"
  },
  "language_info": {
   "codemirror_mode": "r",
   "file_extension": ".r",
   "mimetype": "text/x-r-source",
   "name": "R",
   "pygments_lexer": "r",
   "version": "3.6.1"
  }
 },
 "nbformat": 4,
 "nbformat_minor": 2
}
