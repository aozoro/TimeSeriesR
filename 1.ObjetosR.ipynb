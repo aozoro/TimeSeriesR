{
 "cells": [
  {
   "cell_type": "code",
   "execution_count": 2,
   "metadata": {},
   "outputs": [
    {
     "data": {
      "text/plain": [
       "               _                           \n",
       "platform       x86_64-w64-mingw32          \n",
       "arch           x86_64                      \n",
       "os             mingw32                     \n",
       "system         x86_64, mingw32             \n",
       "status                                     \n",
       "major          3                           \n",
       "minor          5.3                         \n",
       "year           2019                        \n",
       "month          03                          \n",
       "day            11                          \n",
       "svn rev        76217                       \n",
       "language       R                           \n",
       "version.string R version 3.5.3 (2019-03-11)\n",
       "nickname       Great Truth                 "
      ]
     },
     "metadata": {},
     "output_type": "display_data"
    }
   ],
   "source": [
    "version"
   ]
  },
  {
   "cell_type": "markdown",
   "metadata": {},
   "source": [
    "# Fundamentos de programación en R\n",
    "1. Lenguaje de programación orientado a objetos\n",
    "2. Objetos en R\n",
    "3. Indexando y algunos comandos básicos\n",
    "4. Operaciones\n",
    "\n",
    "## 1. Lenguaje de programación orientado a objetos\n",
    "### Lenguaje de Programación Orientado a Objetos (OOP) o Programación Funcional (FP)\n",
    "OOP y FP son diferentes paradigmas para alcanzar un objetivo a través de la programación.\n",
    "\n",
    "> OOP: Un paradigma de programación basado en el concepto de \"objetos\", que son estructuras que contienen datos en forma de campos, a menudo conocidos como atributos; y código, en forma de procedimientos, a menudo conocidos como métodos.\n",
    "[wikipedia](https://en.wikipedia.org/wiki/Object-oriented_programming)\n",
    "\n",
    "> FP: Un paradigma de programación, un estilo de construcción de estructuras y elementos del código, que trata al programa como evaluación de funciones matemáticas, evitando así, el cambio de estados y datos mutables.\n",
    "[wikipedia](https://en.wikipedia.org/wiki/Functional_programming)\n",
    "\n",
    "En cualquier programa hay dos componentes principales: *datos* y *comportamientos*. OOP reúne a los datos y sus comportamientos asociados en una única ubicación (llamada \"objeto\"). En cambio, FP mantiene los datos y sus comportamientos por separado.\n",
    "\n",
    "Interesante artículo comparando OOP y FP [here](https://www.tutorialspoint.com/functional_programming/functional_programming_introduction.htm)\n",
    "\n",
    "### Ejemplos\n",
    "* OOP: lenguajes más populare como Python, R, Matlab, Julia, Fortran, Ruby, ...\n",
    "\n",
    "* FP: Mathematica, Ruby,...\n",
    "\n",
    "## 2. Objectos en R: Tipos de datos\n",
    "\n",
    "Cuando programas en cualquier lenguaje necesitas usar diferentes variables para almacenar diferentes datos. Además, las variables se reservan en una ubicación de memoria, esto implica que, una vez que se crea una variable, se reserva un área en la memoria. Estos objetos son:\n",
    "\n",
    "<table>\n",
    "<thead>\n",
    "<tr>\n",
    "<th>Objeto</th>\n",
    "<th>Descripción</th>\n",
    "<th>Función que verifica</th>    \n",
    "</tr>\n",
    "</thead>\n",
    "<tbody>\n",
    "<tr>\n",
    "<td>integer</td>\n",
    "<td>valores enteros</td>\n",
    "<td><code>is.integer()</code></td>    \n",
    "</tr>\n",
    "<tr>\n",
    "<td>numeric</td>\n",
    "<td>valores flotantes</td>\n",
    "<td><code>is.numeric()</code></td>    \n",
    "</tr>\n",
    "<tr>\n",
    "<td>character</td>\n",
    "<td>cadenas de texto</td>\n",
    "<td><code>is.character()</code></td>\n",
    "</tr>\n",
    "<tr>\n",
    "<td>logical</td>\n",
    "<td>valores booleanos</td>\n",
    "<td><code>is.logical()</code></td>\n",
    "</tbody>\n",
    "</table>\n",
    "\n",
    "Los objetos se pueden identificar con el comando *class()* o *mode()*\n",
    "\n",
    "**Nota**: *las variables no tienen que declararse antes de ser usadas. Cuando asignas tiene una declaración automática*\n",
    "\n",
    "### 2.1. Logical\n",
    "Una declaración lógica verdadera/falsa"
   ]
  },
  {
   "cell_type": "code",
   "execution_count": null,
   "metadata": {},
   "outputs": [],
   "source": [
    "#Logical\n",
    "a <- TRUE\n",
    "b <- FALSE\n",
    "\n",
    "print(a)\n",
    "print(b)"
   ]
  },
  {
   "cell_type": "markdown",
   "metadata": {},
   "source": [
    "R puede indetificar el tipo de variable"
   ]
  },
  {
   "cell_type": "code",
   "execution_count": null,
   "metadata": {},
   "outputs": [],
   "source": [
    "print(class(a))\n",
    "print(class(b))"
   ]
  },
  {
   "cell_type": "code",
   "execution_count": null,
   "metadata": {},
   "outputs": [],
   "source": [
    "mode(a)\n",
    "class(a)"
   ]
  },
  {
   "cell_type": "markdown",
   "metadata": {},
   "source": [
    "### 2.2. Integer y numeric\n",
    "Los números pueden ser enteros (sin decimales) o flotantes (decimales de doble precisión)."
   ]
  },
  {
   "cell_type": "code",
   "execution_count": null,
   "metadata": {},
   "outputs": [],
   "source": [
    "#numeric\n",
    "c <- 4L #se usa el sufijo L\n",
    "d <- 4\n",
    "e <- 4.5\n",
    "print(c)\n",
    "print(d)\n",
    "print(e)"
   ]
  },
  {
   "cell_type": "code",
   "execution_count": null,
   "metadata": {},
   "outputs": [],
   "source": [
    "class(c)\n",
    "class(d)"
   ]
  },
  {
   "cell_type": "code",
   "execution_count": null,
   "metadata": {},
   "outputs": [],
   "source": [
    "is.logical(c)\n",
    "is.integer(c)\n",
    "is.numeric(c)"
   ]
  },
  {
   "cell_type": "code",
   "execution_count": null,
   "metadata": {},
   "outputs": [],
   "source": [
    "is.logical(d)\n",
    "is.integer(d)\n",
    "is.numeric(d)"
   ]
  },
  {
   "cell_type": "code",
   "execution_count": null,
   "metadata": {},
   "outputs": [],
   "source": [
    "c==d"
   ]
  },
  {
   "cell_type": "code",
   "execution_count": null,
   "metadata": {},
   "outputs": [],
   "source": [
    "class(c)\n",
    "class(d)\n",
    "class(c)==class(d)"
   ]
  },
  {
   "cell_type": "markdown",
   "metadata": {},
   "source": [
    "### 2.3. Character\n",
    "Un Character es una cadena de texto"
   ]
  },
  {
   "cell_type": "code",
   "execution_count": null,
   "metadata": {
    "scrolled": true
   },
   "outputs": [],
   "source": [
    "#Character\n",
    "a <- 'R-proyect'\n",
    "b <- \"R-proyect\"\n",
    "c <- \"4\"\n",
    "d <- 4\n",
    "\n",
    "print(a)\n",
    "print(b)\n",
    "print(c)\n",
    "print(d)\n",
    "print(\"hola mundo\")\n",
    "print(\"a\")"
   ]
  },
  {
   "cell_type": "code",
   "execution_count": null,
   "metadata": {},
   "outputs": [],
   "source": [
    "f <- \"a\"\n",
    "g <- a\n",
    "\n",
    "print(f)\n",
    "print(g)"
   ]
  },
  {
   "cell_type": "code",
   "execution_count": null,
   "metadata": {},
   "outputs": [],
   "source": [
    "print(class(a))\n",
    "print(class(b))\n",
    "print(class(c))\n",
    "print(class(d))\n",
    "print(class(f))\n",
    "print(class(g))"
   ]
  },
  {
   "cell_type": "code",
   "execution_count": null,
   "metadata": {},
   "outputs": [],
   "source": [
    "a==b \n",
    "class(a)==class(b)"
   ]
  },
  {
   "cell_type": "code",
   "execution_count": null,
   "metadata": {},
   "outputs": [],
   "source": [
    "\"4\"== 4\n",
    "c==d\n",
    "class(c)==class(d)"
   ]
  },
  {
   "cell_type": "code",
   "execution_count": null,
   "metadata": {},
   "outputs": [],
   "source": [
    "a <- \"manzana\"\n",
    "b <- \"platano\"\n",
    "c <- \"uva\"\n",
    "#meta: \"manzana,platano,uva\"\n",
    "d <- paste(a,b,c, sep=\",\")\n",
    "print(d)"
   ]
  },
  {
   "cell_type": "code",
   "execution_count": null,
   "metadata": {},
   "outputs": [],
   "source": [
    "e <- \"hola\"\n",
    "f <- \"mundo\"\n",
    "#meta: \"hola mundo\"\n",
    "\n",
    "paste(e,f)\n",
    "paste(e,f,sep=\" \")"
   ]
  },
  {
   "cell_type": "markdown",
   "metadata": {},
   "source": [
    "## 3. Objectos en R: Estructuras de datos\n",
    "\n",
    "También existen objetos que son estructuras de datos, en la cual una variable puede almacenar más de un dato.\n",
    "\n",
    "<table>\n",
    "<thead>\n",
    "<tr>\n",
    "<th>Dimensiones</th>\n",
    "<th>Homogeneas</th>\n",
    "<th>Heterogeneas</th>\n",
    "</tr>\n",
    "</thead>\n",
    "<tbody>\n",
    "<tr>\n",
    "<td>1</td>\n",
    "<td>Vector</td>\n",
    "<td>Lista</td>\n",
    "</tr>\n",
    "<tr>\n",
    "<td>2</td>\n",
    "<td>Matriz</td>\n",
    "<td>Data frame</td>\n",
    "</tbody>\n",
    "</table>"
   ]
  },
  {
   "cell_type": "markdown",
   "metadata": {},
   "source": [
    "### 3.1 Vectores\n",
    "\n",
    "Un vector es la estructura de datos más sencilla en R. Un vector es una colección de uno o más datos del mismo tipo.\n",
    "\n",
    "**Tipo**: Un vector tiene el mismo tipo que los datos que contiene. Si tenemos un vector que contiene datos de tipo numérico, el vector será también de tipo numérico. Los vectores son atómicos, pues sólo pueden contener datos de un sólo tipo, no es posible mezclar datos de tipos diferentes dentro de ellos.\n",
    "\n",
    "**Largo**: Es el número de elementos que contiene un vector. El largo es la única dimensión que tiene esta estructura de datos."
   ]
  },
  {
   "cell_type": "code",
   "execution_count": null,
   "metadata": {},
   "outputs": [],
   "source": [
    "#Vectores\n",
    "a <- c(FALSE, FALSE,TRUE)\n",
    "b <- c(1,2,3,4)\n",
    "c <- c(\"hola\",\"como\",\"estas\")\n",
    "a\n",
    "b\n",
    "c"
   ]
  },
  {
   "cell_type": "code",
   "execution_count": null,
   "metadata": {},
   "outputs": [],
   "source": [
    "class(a)\n",
    "class(b)\n",
    "class(c)"
   ]
  },
  {
   "cell_type": "code",
   "execution_count": null,
   "metadata": {},
   "outputs": [],
   "source": [
    "length(a)\n",
    "length(b)\n",
    "length(c)"
   ]
  },
  {
   "cell_type": "markdown",
   "metadata": {},
   "source": [
    "En caso de escribir valores de diferentes tipos se homogeniza con la clase más flexible. El orden de flexibilidad es: character, numeric y logical."
   ]
  },
  {
   "cell_type": "code",
   "execution_count": null,
   "metadata": {},
   "outputs": [],
   "source": [
    "d <- c(1,2,TRUE,FALSE,TRUE,5) #TRUE: 1 , FALSE: 0\n",
    "e <- c(1,2,TRUE,\"hola\")\n",
    "print(d)\n",
    "print(e)"
   ]
  },
  {
   "cell_type": "code",
   "execution_count": null,
   "metadata": {},
   "outputs": [],
   "source": [
    "class(d)\n",
    "class(e)"
   ]
  },
  {
   "cell_type": "markdown",
   "metadata": {},
   "source": [
    "También se puede unir vectores con <code>c()</code>"
   ]
  },
  {
   "cell_type": "code",
   "execution_count": null,
   "metadata": {},
   "outputs": [],
   "source": [
    "f <- c(d,e)\n",
    "print(f)"
   ]
  },
  {
   "cell_type": "code",
   "execution_count": null,
   "metadata": {},
   "outputs": [],
   "source": [
    "g <- 1:10\n",
    "h <- 10:1\n",
    "\n",
    "print(g)\n",
    "print(h)"
   ]
  },
  {
   "cell_type": "code",
   "execution_count": null,
   "metadata": {},
   "outputs": [],
   "source": [
    "g[2]\n",
    "h[2]"
   ]
  },
  {
   "cell_type": "code",
   "execution_count": null,
   "metadata": {},
   "outputs": [],
   "source": [
    "i <- seq(4,6,0.5)\n",
    "\n",
    "print(i)"
   ]
  },
  {
   "cell_type": "code",
   "execution_count": null,
   "metadata": {},
   "outputs": [],
   "source": [
    "#segundo elemento\n",
    "print(i[2])\n",
    "\n",
    "#todo el vector excepto el segundo elemento\n",
    "print(i[-2])\n",
    "\n",
    "#del segundo al cuarto elemeto\n",
    "print(i[2:4])\n",
    "\n",
    "#el elemento 1 y 4\n",
    "print(i[c(1,4)])"
   ]
  },
  {
   "cell_type": "code",
   "execution_count": null,
   "metadata": {},
   "outputs": [],
   "source": [
    "i[2] <- 517\n",
    "print(i)"
   ]
  },
  {
   "cell_type": "code",
   "execution_count": null,
   "metadata": {},
   "outputs": [],
   "source": [
    "j <- 1:5\n",
    "h <- 1:5"
   ]
  },
  {
   "cell_type": "markdown",
   "metadata": {},
   "source": [
    "### 3.2 Matrices\n",
    "\n",
    "Las matrices son una estructura de datos bidimensionales, poseen largo y alto. Al igual que un vector, únicamente pueden contener datos de un sólo tipo, es decir son atómicos."
   ]
  },
  {
   "cell_type": "code",
   "execution_count": null,
   "metadata": {},
   "outputs": [],
   "source": [
    "#Matrices\n",
    "a <- 1:10 \n",
    "print(a)"
   ]
  },
  {
   "cell_type": "code",
   "execution_count": null,
   "metadata": {},
   "outputs": [],
   "source": [
    "b <- matrix(a)\n",
    "print(b)"
   ]
  },
  {
   "cell_type": "code",
   "execution_count": null,
   "metadata": {},
   "outputs": [],
   "source": [
    "nrow(b)\n",
    "ncol(b)\n",
    "dim(b)"
   ]
  },
  {
   "cell_type": "code",
   "execution_count": null,
   "metadata": {},
   "outputs": [],
   "source": [
    "c <- matrix(a,nrow=2)\n",
    "print(c)"
   ]
  },
  {
   "cell_type": "code",
   "execution_count": null,
   "metadata": {},
   "outputs": [],
   "source": [
    "d <- matrix(a,ncol=2)\n",
    "print(d)"
   ]
  },
  {
   "cell_type": "code",
   "execution_count": null,
   "metadata": {},
   "outputs": [],
   "source": [
    "e <- matrix(a,ncol=2, byrow=TRUE)\n",
    "print(e)"
   ]
  },
  {
   "cell_type": "code",
   "execution_count": null,
   "metadata": {},
   "outputs": [],
   "source": [
    "class(b)\n",
    "class(c)\n",
    "class(d)\n",
    "class(e)"
   ]
  },
  {
   "cell_type": "code",
   "execution_count": null,
   "metadata": {},
   "outputs": [],
   "source": [
    "f <- c(1,1,1)\n",
    "g <- c(0,0,0)\n",
    "\n",
    "h <- rbind(f,g)\n",
    "print(h)\n",
    "class(h)"
   ]
  },
  {
   "cell_type": "code",
   "execution_count": null,
   "metadata": {},
   "outputs": [],
   "source": [
    "i <- cbind(f,g)\n",
    "\n",
    "print(i)\n",
    "class(i)"
   ]
  },
  {
   "cell_type": "code",
   "execution_count": null,
   "metadata": {},
   "outputs": [],
   "source": [
    "print(e)"
   ]
  },
  {
   "cell_type": "code",
   "execution_count": null,
   "metadata": {},
   "outputs": [],
   "source": [
    "#elemento de segunda fila y segunda columna\n",
    "print(e[2,2])"
   ]
  },
  {
   "cell_type": "code",
   "execution_count": null,
   "metadata": {},
   "outputs": [],
   "source": [
    "#segunda fila\n",
    "print(e[2,])"
   ]
  },
  {
   "cell_type": "code",
   "execution_count": null,
   "metadata": {},
   "outputs": [],
   "source": [
    "#segunda columna\n",
    "print(e[,2])"
   ]
  },
  {
   "cell_type": "code",
   "execution_count": null,
   "metadata": {},
   "outputs": [],
   "source": [
    "#toda la matriz excepto la segunda fila\n",
    "print(e[-2,])"
   ]
  },
  {
   "cell_type": "markdown",
   "metadata": {},
   "source": [
    "### 3.3 Listas\n",
    "Las listas, al igual que los vectores, son estructuras de datos unidimensionales, sólo tienen largo, pero a diferencia de los vectores cada uno de sus elementos puede ser de diferente tipo o incluso de diferente clase, por lo que son estructuras heterogéneas."
   ]
  },
  {
   "cell_type": "code",
   "execution_count": null,
   "metadata": {},
   "outputs": [],
   "source": [
    "#Listas\n",
    "a <- c(2,TRUE,\"hola\")\n",
    "print(a)"
   ]
  },
  {
   "cell_type": "code",
   "execution_count": null,
   "metadata": {},
   "outputs": [],
   "source": [
    "b <- list(2,TRUE,\"hola\")\n",
    "print(b)"
   ]
  },
  {
   "cell_type": "code",
   "execution_count": null,
   "metadata": {},
   "outputs": [],
   "source": [
    "c <- list(2,TRUE,\"hola\",c(5,7,9))\n",
    "print(c)"
   ]
  },
  {
   "cell_type": "code",
   "execution_count": null,
   "metadata": {
    "scrolled": true
   },
   "outputs": [],
   "source": [
    "vectorNumerico <- c(1,2,3)\n",
    "vectorChar <- c(\"hola\",\"chau\")\n",
    "matriz <- matrix(1:9,nrow=3, byrow=TRUE)\n",
    "dummy <- TRUE\n",
    "\n",
    "a <- list(vectorNumerico, vectorChar, matriz, dummy)\n",
    "print(a)"
   ]
  },
  {
   "cell_type": "code",
   "execution_count": null,
   "metadata": {},
   "outputs": [],
   "source": [
    "b <- list(\"vector1\"=vectorNumerico, \"vector2\"=vectorChar, \"matriz\"=matriz, \"dummy\"=dummy)\n",
    "print(b)"
   ]
  },
  {
   "cell_type": "code",
   "execution_count": null,
   "metadata": {},
   "outputs": [],
   "source": [
    "a[2]"
   ]
  },
  {
   "cell_type": "code",
   "execution_count": null,
   "metadata": {},
   "outputs": [],
   "source": [
    "b$vector2\n",
    "b[2]\n",
    "print(b$matriz)"
   ]
  },
  {
   "cell_type": "code",
   "execution_count": null,
   "metadata": {},
   "outputs": [],
   "source": [
    "names(a)\n",
    "names(b)"
   ]
  },
  {
   "cell_type": "code",
   "execution_count": null,
   "metadata": {},
   "outputs": [],
   "source": [
    "names(a) <- c(\"vector1\",\"vector2\",\"matriz\",\"dummy\")\n",
    "print(a)"
   ]
  },
  {
   "cell_type": "code",
   "execution_count": null,
   "metadata": {},
   "outputs": [],
   "source": [
    "a$nuevo <- \"Hola mundo\"\n",
    "print(a)"
   ]
  },
  {
   "cell_type": "code",
   "execution_count": null,
   "metadata": {},
   "outputs": [],
   "source": [
    "a[6] <- list(c(5,6))\n",
    "print(a)"
   ]
  },
  {
   "cell_type": "code",
   "execution_count": null,
   "metadata": {},
   "outputs": [],
   "source": [
    "names(a)"
   ]
  },
  {
   "cell_type": "markdown",
   "metadata": {},
   "source": [
    "### 3.3 Data frames\n",
    "El origen del data frame proviene de una intensa investigación empírica en el mundo del software estadístico. En particular, es una estructura de datos en R donde hay observaciones o registros (filas) y variables o campos (columnas).\n",
    "\n",
    "Se utiliza un data frame para almacenar tablas de datos, los vectores que están contenidos en forma de una lista en un marco de datos son de igual longitud."
   ]
  },
  {
   "cell_type": "code",
   "execution_count": null,
   "metadata": {},
   "outputs": [],
   "source": [
    "#Data Frames\n",
    "vector1 <- c(\"Armando\", \"Elsa\", \"Ignacio\", \"Olga\")\n",
    "vector2 <- c(20, 24, 22, 30)\n",
    "vector3 <- c(\"Hombre\", \"Mujer\", \"Hombre\", \"Mujer\")\n",
    "\n",
    "\n",
    "dataEstructurada <- data.frame(\"nombres\"= vector1, \"edad\" = vector2, \"sexo\"= vector3)\n",
    "dataEstructurada #printeo Jupyter\n",
    "print(dataEstructurada) #printeo R"
   ]
  },
  {
   "cell_type": "code",
   "execution_count": null,
   "metadata": {},
   "outputs": [],
   "source": [
    "names(dataEstructurada)"
   ]
  },
  {
   "cell_type": "code",
   "execution_count": null,
   "metadata": {},
   "outputs": [],
   "source": [
    "print(dataEstructurada$sexo)"
   ]
  },
  {
   "cell_type": "code",
   "execution_count": null,
   "metadata": {},
   "outputs": [],
   "source": [
    "print(dataEstructurada[3])"
   ]
  },
  {
   "cell_type": "code",
   "execution_count": null,
   "metadata": {},
   "outputs": [],
   "source": [
    "print(dataEstructurada[2,])"
   ]
  },
  {
   "cell_type": "code",
   "execution_count": null,
   "metadata": {},
   "outputs": [],
   "source": [
    "print(dataEstructurada[-2,])"
   ]
  },
  {
   "cell_type": "code",
   "execution_count": null,
   "metadata": {},
   "outputs": [],
   "source": [
    "print(dataEstructurada[2:3,])"
   ]
  },
  {
   "cell_type": "code",
   "execution_count": null,
   "metadata": {},
   "outputs": [],
   "source": [
    "str(dataEstructurada)"
   ]
  },
  {
   "cell_type": "code",
   "execution_count": null,
   "metadata": {},
   "outputs": [],
   "source": [
    "dim(dataEstructurada)\n",
    "nrow(dataEstructurada)\n",
    "ncol(dataEstructurada)"
   ]
  },
  {
   "cell_type": "code",
   "execution_count": null,
   "metadata": {},
   "outputs": [],
   "source": [
    "summary(dataEstructurada)"
   ]
  },
  {
   "cell_type": "markdown",
   "metadata": {},
   "source": [
    "#### Nota sobre Data Frame: Factores"
   ]
  },
  {
   "cell_type": "code",
   "execution_count": null,
   "metadata": {},
   "outputs": [],
   "source": [
    "sexo <- c(1, 1, 1, 1, 2, 2, 2)\n",
    "peso <- c(60, 65, 70, 66, 80, 60, 76)\n",
    "df <- data.frame(sexo, peso)\n",
    "df$sexo <- factor(df$sexo)\n",
    "\n",
    "print(df)"
   ]
  },
  {
   "cell_type": "code",
   "execution_count": null,
   "metadata": {},
   "outputs": [],
   "source": [
    "df$sexo <- factor( df$sexo,\n",
    "levels = c(1, 2),\n",
    "labels = c(\"masculino\", \"femenino\")\n",
    ")\n",
    "\n",
    "print(df)"
   ]
  },
  {
   "cell_type": "markdown",
   "metadata": {},
   "source": [
    "#### Ejemplo: Manipulación de Data Frames"
   ]
  },
  {
   "cell_type": "code",
   "execution_count": null,
   "metadata": {},
   "outputs": [],
   "source": [
    "id <- c( 1:5 )\n",
    "date <- c( \"10/07/08\", \"10/08/08\", \"10/09/08\", \"10/10/08\", \"10/11/08\" )\n",
    "country <- c( \"US\", \"US\", \"UK\", \"UK\", \"UK\" )\n",
    "gender <- c( \"M\", \"F\", \"F\", NA, \"F\" )\n",
    "age <- c( NA, 45, 25, 39, 99 )\n",
    "q1 <- c( 5, 3, 3, 3, 2 )\n",
    "q2 <- c( 5, 5, 5, NA, 2 )\n",
    "q3 <- c( 5, 5, 2, NA, 1 )\n",
    "df <- data.frame( id, date, country, gender, age, q1, q2, q3,\n",
    "stringsAsFactors = FALSE )\n",
    "df"
   ]
  },
  {
   "cell_type": "code",
   "execution_count": null,
   "metadata": {},
   "outputs": [],
   "source": [
    "# creamos variables con la función transform()\n",
    "df <- transform( df,\n",
    "    sumx = q1 + q2,\n",
    "    meanx = ( q1 + q2 ) / 2 )\n",
    "df"
   ]
  },
  {
   "cell_type": "code",
   "execution_count": null,
   "metadata": {},
   "outputs": [],
   "source": [
    "df <- df[ ,-c(9 , 10)]\n",
    "df"
   ]
  },
  {
   "cell_type": "code",
   "execution_count": null,
   "metadata": {},
   "outputs": [],
   "source": [
    "#creamos como objeto\n",
    "\n",
    "df$sumx = df$q1 + df$q2\n",
    "df"
   ]
  },
  {
   "cell_type": "code",
   "execution_count": null,
   "metadata": {},
   "outputs": [],
   "source": [
    "#creamos una nueva columna promx que sea el promedio de las q"
   ]
  },
  {
   "cell_type": "markdown",
   "metadata": {},
   "source": [
    "Creamos una variable agecata tal que si la persona es menor de 44 es joven, si esta entre 45 y 75 es maduro y si es mayor de 75 es anciano"
   ]
  },
  {
   "cell_type": "code",
   "execution_count": null,
   "metadata": {},
   "outputs": [],
   "source": [
    "df$agecat[ df$age > 75 ] <- \"anciano\" # crea la variable\n",
    "df$agecat[ df$age <= 75 & df$age > 44 ] <- \"maduro\"\n",
    "df$agecat[ df$age <= 44 ] <- \"joven\"\n",
    "df"
   ]
  },
  {
   "cell_type": "code",
   "execution_count": null,
   "metadata": {},
   "outputs": [],
   "source": [
    "names(df)"
   ]
  },
  {
   "cell_type": "code",
   "execution_count": null,
   "metadata": {},
   "outputs": [],
   "source": [
    "names( df )[ 1 ] <- \"ID\"\n",
    "names( df )[ 3 ] <- \"pais\"\n",
    "names( df )[ 4 ] <- \"G\"\n",
    "names( df )[ 6:8 ] <- c( \"it1\", \"it2\", \"it3\" )\n",
    "df"
   ]
  },
  {
   "cell_type": "code",
   "execution_count": null,
   "metadata": {},
   "outputs": [],
   "source": [
    "### Que es un NA?\n",
    "y <- c( 1, 2, 3, NA )\n",
    "is.na( y ) # ¿cuáles son NA?"
   ]
  },
  {
   "cell_type": "code",
   "execution_count": null,
   "metadata": {},
   "outputs": [],
   "source": [
    "is.na( df[ , 4:10 ] )"
   ]
  },
  {
   "cell_type": "code",
   "execution_count": null,
   "metadata": {},
   "outputs": [],
   "source": [
    "#cambiar el valor de NA de edad por un valor especifico\n",
    "df"
   ]
  },
  {
   "cell_type": "code",
   "execution_count": null,
   "metadata": {},
   "outputs": [],
   "source": [
    "df$age[ is.na( df$age ) ] <- 99\n",
    "df"
   ]
  },
  {
   "cell_type": "code",
   "execution_count": null,
   "metadata": {},
   "outputs": [],
   "source": [
    "#Cambiar el valor especifico a NA\n",
    "df$age[ df$age == 99 ] <- NA\n",
    "df"
   ]
  },
  {
   "cell_type": "code",
   "execution_count": null,
   "metadata": {},
   "outputs": [],
   "source": [
    "#evitar los valores NA\n",
    "x <- c( 1, 2, NA, 3 )\n",
    "z <- sum( x )\n",
    "\n",
    "print(z)"
   ]
  },
  {
   "cell_type": "code",
   "execution_count": null,
   "metadata": {},
   "outputs": [],
   "source": [
    "sum(x,na.rm=TRUE)"
   ]
  },
  {
   "cell_type": "code",
   "execution_count": null,
   "metadata": {},
   "outputs": [],
   "source": [
    "#para un data frame\n",
    "df <- na.omit( df )\n",
    "df"
   ]
  },
  {
   "cell_type": "code",
   "execution_count": null,
   "metadata": {},
   "outputs": [],
   "source": [
    "#ordenar el data frame\n",
    "df"
   ]
  },
  {
   "cell_type": "code",
   "execution_count": null,
   "metadata": {},
   "outputs": [],
   "source": [
    "#Ascendente por age\n",
    "df_ordenado <- df[ order( df$age ), ]\n",
    "df_ordenado"
   ]
  },
  {
   "cell_type": "code",
   "execution_count": null,
   "metadata": {},
   "outputs": [],
   "source": [
    "#Ascendente por gender y descendente segun age\n",
    "df_ordenado2 <- df[ order( df$gender , -df$age ), ]\n",
    "df_ordenado2"
   ]
  }
 ],
 "metadata": {
  "kernelspec": {
   "display_name": "R",
   "language": "R",
   "name": "ir"
  },
  "language_info": {
   "codemirror_mode": "r",
   "file_extension": ".r",
   "mimetype": "text/x-r-source",
   "name": "R",
   "pygments_lexer": "r",
   "version": "3.5.3"
  }
 },
 "nbformat": 4,
 "nbformat_minor": 2
}
