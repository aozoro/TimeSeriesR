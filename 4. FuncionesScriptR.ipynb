{
 "cells": [
  {
   "cell_type": "markdown",
   "metadata": {},
   "source": [
    "# Funciones y Scripts \n",
    "\n",
    "## 1. Funciones\n",
    "La instalación base de R tiene suficientes funciones para que realicemos todas las tareas básicas. Sin embargo, es comun que necesitemos realizar tareas para las que no existen una funciones específicas.\n",
    "\n",
    "Las funciones tienen la estructura\n",
    "\n",
    "```R\n",
    "    nombre_funcion <- function(argumentos){\n",
    "        expresion\n",
    "        return(salida)\n",
    "    }\n",
    "```\n",
    "\n",
    "donde\n",
    "- **nombre_funcion**: es el nombre arbitrario que designamos a la función\n",
    "- **function**: palabra reservada para crear funciones en R\n",
    "- **argumentos**: son los inputs o entradas\n",
    "- **expresion**: es el codigo a ejercutarse\n",
    "- **return**: palabra reservada para asignar la output o salida\n",
    "- **salida**: es el output o salida\n",
    "\n",
    "\n",
    "Se ejercuta con  <code> nombre_funcion(argumentos) </code>"
   ]
  },
  {
   "cell_type": "markdown",
   "metadata": {},
   "source": [
    "Podemoss no tener argumentos ni <code>return()</code>"
   ]
  },
  {
   "cell_type": "code",
   "execution_count": null,
   "metadata": {},
   "outputs": [],
   "source": [
    "saludo <- function(){\n",
    "    print(\"buenos dias\")\n",
    "}"
   ]
  },
  {
   "cell_type": "markdown",
   "metadata": {},
   "source": [
    "Para llamar a la función se hace"
   ]
  },
  {
   "cell_type": "code",
   "execution_count": null,
   "metadata": {},
   "outputs": [],
   "source": [
    "saludo()\n",
    "saludo()"
   ]
  },
  {
   "cell_type": "markdown",
   "metadata": {},
   "source": [
    "### Ejemplo 1: Hipotenusa\n",
    "\n",
    "Para hallar la hiponeusa, $c$ ,necesitamos los valores de los catetos $a$ y $b$ tal que debe cumplir\n",
    "$$\n",
    "a^2 + b^2 = c^2 \n",
    "$$\n",
    "es decir\n",
    "$$\n",
    "    c=\\sqrt{a^2 + b^2}\n",
    "$$\n",
    "implementado en R"
   ]
  },
  {
   "cell_type": "code",
   "execution_count": null,
   "metadata": {},
   "outputs": [],
   "source": [
    "##hipotenusa segun teorema de pitagoras"
   ]
  },
  {
   "cell_type": "code",
   "execution_count": null,
   "metadata": {},
   "outputs": [],
   "source": [
    "#comprobar que la hipotenusa de los catetos 3 y 4 es 5"
   ]
  },
  {
   "cell_type": "markdown",
   "metadata": {},
   "source": [
    "### Ejemplo 2: Diámentro, Área y Longitud de un circulo\n",
    "Si tenemos el radio, $r$, podemos obtener el diámetro, área y perímetro del circulo. El diámetro es\n",
    "$$\n",
    "D=2r\n",
    "$$\n",
    "\n",
    "el área $S$ es \n",
    "$$\n",
    "S=\\pi r^2 \n",
    "$$\n",
    "\n",
    "y el perímetro o longitud es\n",
    "$$\n",
    "L= 2 \\pi r \n",
    "$$"
   ]
  },
  {
   "cell_type": "code",
   "execution_count": null,
   "metadata": {},
   "outputs": [],
   "source": [
    "#implementar la funcion llamada circulo que tenga como argumento el radio y nos devuelva: diametro, area y longitud de arco"
   ]
  },
  {
   "cell_type": "code",
   "execution_count": null,
   "metadata": {},
   "outputs": [],
   "source": [
    "#ejecutar la funcion circulo con un radio 1"
   ]
  },
  {
   "cell_type": "code",
   "execution_count": null,
   "metadata": {},
   "outputs": [],
   "source": [
    "#asignar a la variable x los output de un circulo de radio 2. Y solo mostrar en pantalla el área del cirulo "
   ]
  },
  {
   "cell_type": "code",
   "execution_count": null,
   "metadata": {},
   "outputs": [],
   "source": [
    "circulo()"
   ]
  },
  {
   "cell_type": "markdown",
   "metadata": {},
   "source": [
    "### Ejemplo 3: Saludo\n",
    "\n",
    "Los argumentos no necesariamente tienen que ser obligatorios"
   ]
  },
  {
   "cell_type": "code",
   "execution_count": null,
   "metadata": {},
   "outputs": [],
   "source": [
    "#Crear la funcion saludo_personal que tenga como argumento el nombre, en caso no se ingrese nombre poner \"Usuario\". Y saludar \"hola, nombre\""
   ]
  },
  {
   "cell_type": "code",
   "execution_count": null,
   "metadata": {},
   "outputs": [],
   "source": [
    "# ejecutar con tu nombre"
   ]
  },
  {
   "cell_type": "code",
   "execution_count": null,
   "metadata": {},
   "outputs": [],
   "source": [
    "#ejecutar sin nombre"
   ]
  },
  {
   "cell_type": "markdown",
   "metadata": {
    "collapsed": true
   },
   "source": [
    "## 2. Scripts\n",
    "\n",
    "Un *script de R* es una colección de comandos en un archivo diseñado para ejecutarse como un programa. \n",
    "\n",
    "* El script puede contener funciones y codigo.\n",
    "\n",
    "```R\n",
    "#Este es un ejemplo de script: Ejemplo.R\n",
    "print(\"hola mundo\") \n",
    "```\n",
    "podemos cargar el script mediante <code>source()</code>"
   ]
  },
  {
   "cell_type": "code",
   "execution_count": null,
   "metadata": {},
   "outputs": [],
   "source": [
    "source(\"Ejemplo.R\")"
   ]
  },
  {
   "cell_type": "markdown",
   "metadata": {},
   "source": [
    "### Ejemplo 4: Función cuadrática\n",
    "Crear la función\n",
    "$$\n",
    "f(x) = x^2 +1\n",
    "$$"
   ]
  },
  {
   "cell_type": "code",
   "execution_count": null,
   "metadata": {},
   "outputs": [],
   "source": [
    "#utilizar source"
   ]
  },
  {
   "cell_type": "code",
   "execution_count": null,
   "metadata": {},
   "outputs": [],
   "source": [
    "# probar con el vector [1,2,3,4]"
   ]
  }
 ],
 "metadata": {
  "kernelspec": {
   "display_name": "R",
   "language": "R",
   "name": "ir"
  },
  "language_info": {
   "codemirror_mode": "r",
   "file_extension": ".r",
   "mimetype": "text/x-r-source",
   "name": "R",
   "pygments_lexer": "r",
   "version": "3.6.1"
  }
 },
 "nbformat": 4,
 "nbformat_minor": 2
}
