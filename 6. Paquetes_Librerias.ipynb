{
 "cells": [
  {
   "cell_type": "markdown",
   "metadata": {},
   "source": [
    "# Paquetes y Librerias\n",
    "\n",
    "## 1. Repositorio\n",
    "Un repositorio es el lugar dónde están alojados los paquetes y desde el cuál podemos descargarlos. Aunque nosotros o nuestra organización disponga de un repositorio local, usualmente los paquetes son accesible online para todo el mundo. Los repositorios mas populares de paquetes R son:\n",
    "\n",
    "* CRAN: el cual es el repositorio oficial compuesto de un conjunto de servidores web y ftp mantenidos por la comunidad R a lo largo de todo el mundo. Está coordinado por la fundación R, y para que un paquete pueda ser publicado en el mismo, necesita pasar por diferentes pruebas para asegurar que el paquete cumple con las políticas de CRAN. Podemos encontrar mas detalles al respecto en el siguiente enlace.\n",
    "\n",
    "\n",
    "* Github: a pesar que no es específico para R, github es con toda seguridad el repositorio mas popular para la publicación de proyectos open source (del inglés, código abierto). Su popularidad procede del espacio ilimitado que proporciona para el alojamiento de proyectos open source, la integración con git (un software de control de versiones) y, la facilidad de compartir y colaborar con otras personas. Se podría objetar que a pesar de que no proporciona procesos de control, sin embargo, será uno de los repositorios que utilicemos con más frecuencia siempre y cuándo conozcamos la persona/s que publica el paquete."
   ]
  },
  {
   "cell_type": "markdown",
   "metadata": {},
   "source": [
    "## 2. Instalación de un en Paquete R\n",
    "\n",
    "La forma de instalar un paquete R depende de dónde este localizado. Con esto queremos decir que, dependerá del repositorio en dónde este publicado. La forma mas común es usar el repositorio CRAN, usando `install.packages()`"
   ]
  },
  {
   "cell_type": "code",
   "execution_count": null,
   "metadata": {},
   "outputs": [],
   "source": [
    "#instalar un paquete\n",
    "install.packages(\"wooldridge\")"
   ]
  },
  {
   "cell_type": "markdown",
   "metadata": {},
   "source": [
    "### 2.1 Actualizar, Eliminar y Comprobar Paquetes Instalados\n",
    "\n",
    "En esta sección, encontraremos unas pocas funciones que nos permitirán la gestión de la colección de paquetes instalados en nuestro equipo."
   ]
  },
  {
   "cell_type": "code",
   "execution_count": null,
   "metadata": {},
   "outputs": [],
   "source": [
    "#Para comprobar que paquetes tenemos instalados en nuestro equipo, usaremos:\n",
    "installed.packages()"
   ]
  },
  {
   "cell_type": "code",
   "execution_count": null,
   "metadata": {},
   "outputs": [],
   "source": [
    "\"wooldridge\" %in% installed.packages()"
   ]
  },
  {
   "cell_type": "code",
   "execution_count": null,
   "metadata": {},
   "outputs": [],
   "source": [
    "#Si nuestro objetivo es eliminar un paquete, podemos hacerlo como en el siguiente ejemplo:\n",
    "remove.packages(\"wooldridge\")"
   ]
  },
  {
   "cell_type": "code",
   "execution_count": null,
   "metadata": {},
   "outputs": [],
   "source": [
    "\"wooldridge\" %in% installed.packages()"
   ]
  },
  {
   "cell_type": "code",
   "execution_count": null,
   "metadata": {
    "scrolled": false
   },
   "outputs": [],
   "source": [
    "#Para comprobar que paquetes necesitan ser actualizados usaremos:\n",
    "old.packages()"
   ]
  },
  {
   "cell_type": "code",
   "execution_count": null,
   "metadata": {},
   "outputs": [],
   "source": [
    "#A su vez para actualizar todos los paquetes lo haremos mediante una llamada a la función:\n",
    "#update.packages()"
   ]
  },
  {
   "cell_type": "markdown",
   "metadata": {},
   "source": [
    "## 3. Comandos de ayuda\n",
    "\n",
    "Para consultar funciones podemos usar el comando `help()` o `?()`"
   ]
  },
  {
   "cell_type": "code",
   "execution_count": null,
   "metadata": {},
   "outputs": [],
   "source": [
    "#ayudas\n",
    "help(\"data.frame\")"
   ]
  },
  {
   "cell_type": "code",
   "execution_count": null,
   "metadata": {},
   "outputs": [],
   "source": [
    "?matrix"
   ]
  },
  {
   "cell_type": "markdown",
   "metadata": {},
   "source": [
    "En caso de querer consultar un paquete usamos `help(package=\"nombrepaquete\")`"
   ]
  },
  {
   "cell_type": "code",
   "execution_count": null,
   "metadata": {
    "scrolled": true
   },
   "outputs": [],
   "source": [
    "install.packages(\"wooldridge\")\n",
    "help(package = \"wooldridge\")"
   ]
  },
  {
   "cell_type": "markdown",
   "metadata": {},
   "source": [
    "## 4. Uso de un paquete\n",
    "Si tan solo necesitamos hacer un uso esporádico de unas pocas funciones o datos del paquete podemos acceder con la notación\n",
    "`nombrepaquete::nombrefuncion()`"
   ]
  },
  {
   "cell_type": "code",
   "execution_count": null,
   "metadata": {
    "scrolled": true
   },
   "outputs": [],
   "source": [
    "#Formas de usar un paquete en R\n",
    "#wooldridge::apple\n",
    "head(wooldridge::apple)"
   ]
  },
  {
   "cell_type": "code",
   "execution_count": null,
   "metadata": {},
   "outputs": [],
   "source": [
    "library(\"wooldridge\")\n",
    "#card\n",
    "head(card)"
   ]
  },
  {
   "cell_type": "code",
   "execution_count": null,
   "metadata": {},
   "outputs": [],
   "source": [
    "install.packages(\"tseries\")\n",
    "install.packages(\"quantmod\")"
   ]
  },
  {
   "cell_type": "markdown",
   "metadata": {},
   "source": [
    "### Ejemplo1 : Paquete tseries\n",
    "\n",
    "La documentación del paquete, una alternativa del paquete \"quantmod\"\n",
    "\n",
    "https://cran.r-project.org/web/packages/tseries/tseries.pdf"
   ]
  },
  {
   "cell_type": "code",
   "execution_count": null,
   "metadata": {
    "scrolled": true
   },
   "outputs": [],
   "source": [
    "#paquete tseries\n",
    "install.packages(\"tseries\")\n",
    "library(tseries)"
   ]
  },
  {
   "cell_type": "code",
   "execution_count": null,
   "metadata": {},
   "outputs": [],
   "source": [
    "preciosFB <- get.hist.quote(instrument=\"FB\")"
   ]
  },
  {
   "cell_type": "code",
   "execution_count": null,
   "metadata": {},
   "outputs": [],
   "source": [
    "head(preciosFB)"
   ]
  },
  {
   "cell_type": "code",
   "execution_count": null,
   "metadata": {},
   "outputs": [],
   "source": [
    "class(preciosFB)"
   ]
  },
  {
   "cell_type": "code",
   "execution_count": null,
   "metadata": {
    "scrolled": false
   },
   "outputs": [],
   "source": [
    "preciosFB <- data.frame(preciosFB)\n",
    "tail(preciosFB)"
   ]
  },
  {
   "cell_type": "code",
   "execution_count": null,
   "metadata": {},
   "outputs": [],
   "source": [
    "#help(package=\"tseries\")\n",
    "help(\"get.hist.quote\")"
   ]
  },
  {
   "cell_type": "code",
   "execution_count": null,
   "metadata": {},
   "outputs": [],
   "source": [
    "#Descargar la serie close de  FB, ZM, IBM, desde 2020-01-01 ponerlos en un data frame\n",
    "inicio <- \"2020-01-01\"\n",
    "preciosFB <- get.hist.quote(instrument=\"FB\", start=inicio, quote =  \"Close\")\n",
    "preciosZM <- get.hist.quote(instrument=\"ZM\", start=inicio, quote =  \"Close\")\n",
    "preciosIBM <- get.hist.quote(instrument=\"IBM\", start=inicio, quote =  \"Close\")"
   ]
  },
  {
   "cell_type": "code",
   "execution_count": null,
   "metadata": {
    "scrolled": true
   },
   "outputs": [],
   "source": [
    "dataUnida <- data.frame(preciosFB,preciosZM,preciosIBM)\n",
    "dataUnida"
   ]
  },
  {
   "cell_type": "code",
   "execution_count": null,
   "metadata": {},
   "outputs": [],
   "source": [
    "names(dataUnida) <- c(\"Facebook\",\"Zoom\", \"IBM\")\n",
    "tail(dataUnida)"
   ]
  },
  {
   "cell_type": "markdown",
   "metadata": {},
   "source": [
    "### Ejemplo 2: Paquete fBasics\n",
    "\n",
    "Sirve para obtener otros estadísticos"
   ]
  },
  {
   "cell_type": "code",
   "execution_count": null,
   "metadata": {},
   "outputs": [],
   "source": [
    "#paquete fBasics\n",
    "str(preciosFB)"
   ]
  },
  {
   "cell_type": "code",
   "execution_count": null,
   "metadata": {},
   "outputs": [],
   "source": [
    "preciosFB <- data.frame(preciosFB)\n",
    "str(preciosFB)"
   ]
  },
  {
   "cell_type": "code",
   "execution_count": null,
   "metadata": {},
   "outputs": [],
   "source": [
    "summary(preciosFB)"
   ]
  },
  {
   "cell_type": "code",
   "execution_count": null,
   "metadata": {},
   "outputs": [],
   "source": [
    "install.packages(\"fBasics\")\n",
    "library(\"fBasics\")\n",
    "basicStats(preciosfb)"
   ]
  },
  {
   "cell_type": "code",
   "execution_count": null,
   "metadata": {},
   "outputs": [],
   "source": [
    "?basicStats"
   ]
  },
  {
   "cell_type": "code",
   "execution_count": null,
   "metadata": {},
   "outputs": [],
   "source": [
    "SP500 <- quantmod::getSymbols(\"^GSPC\",auto.assign = FALSE)\n",
    "SP500 <- na.omit(SP500)\n",
    "SP500 <- SP500$GSPC.Adjusted\n",
    "SP500 <- diff(log(SP500))[-1]\n",
    "head(SP500)"
   ]
  },
  {
   "cell_type": "code",
   "execution_count": null,
   "metadata": {},
   "outputs": [],
   "source": [
    "mu <- mean(SP500)\n",
    "sigma <- sd(SP500)\n",
    "mu;sigma"
   ]
  },
  {
   "cell_type": "code",
   "execution_count": null,
   "metadata": {},
   "outputs": [],
   "source": [
    "alfa <- 0.05\n",
    "\n",
    "VaR.0 <- qnorm(alfa,mu,sigma)\n",
    "ES.0 <- mu - sigma*dnorm(qnorm(alfa,0,1),0,1)/alfa \n",
    "\n",
    "VaR.0 ; ES.0"
   ]
  },
  {
   "cell_type": "code",
   "execution_count": null,
   "metadata": {},
   "outputs": [],
   "source": [
    "set.seed(2)\n",
    "simulaciones <- 10^4\n",
    "rvec <- rnorm(simulaciones,mu,sigma)\n",
    "VaR.1 <- quantile(rvec,alfa)\n",
    "ES.1 <- mean(rvec[rvec<VaR.1])\n",
    "VaR.1 ; ES.1"
   ]
  },
  {
   "cell_type": "code",
   "execution_count": null,
   "metadata": {},
   "outputs": [],
   "source": [
    "rvec <- sample(SP500,simulaciones,replace=TRUE)\n",
    "VaR.2 <- quantile(rvec,alfa)\n",
    "ES.2 <- mean(rvec[rvec<VaR.2])\n",
    "VaR.2; ES.2"
   ]
  },
  {
   "cell_type": "code",
   "execution_count": null,
   "metadata": {},
   "outputs": [],
   "source": [
    "library(\"moments\")"
   ]
  },
  {
   "cell_type": "code",
   "execution_count": null,
   "metadata": {},
   "outputs": [],
   "source": [
    "skewness(SP500)"
   ]
  },
  {
   "cell_type": "code",
   "execution_count": null,
   "metadata": {},
   "outputs": [],
   "source": [
    "kurtosis(SP500)"
   ]
  },
  {
   "cell_type": "code",
   "execution_count": null,
   "metadata": {},
   "outputs": [],
   "source": [
    "    t.fit <- fitdistr(as.vector(logret), \"t\")\n",
    "    rvec <- rt.scaled(simulaciones,mean=t.fit$estimate[1],sd=t.fit$estimate[2],df=t.fit$estimate[3])\n",
    "    VaR.2 <- quantile(rvec,alfa)\n",
    "    ES.2 <- mean(rvec[rvec<VaR.2])\n",
    "    simulacion.t <- list(\"VaR\"=VaR.2,\"ES\"=ES.2)"
   ]
  }
 ],
 "metadata": {
  "kernelspec": {
   "display_name": "R",
   "language": "R",
   "name": "ir"
  },
  "language_info": {
   "codemirror_mode": "r",
   "file_extension": ".r",
   "mimetype": "text/x-r-source",
   "name": "R",
   "pygments_lexer": "r",
   "version": "4.0.2"
  }
 },
 "nbformat": 4,
 "nbformat_minor": 2
}
