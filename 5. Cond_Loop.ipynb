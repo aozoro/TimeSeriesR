{
 "cells": [
  {
   "cell_type": "markdown",
   "metadata": {},
   "source": [
    "# Declaraciones condicionales y bucles\n",
    "\n",
    "## 1. Condicional\n",
    "Se evalúa una secuencia de código si un booleano es verdadero\n",
    "\n",
    "* Declaración ```if ... elif ... else```\n",
    "\n",
    "    Sintaxis\n",
    "    \n",
    "    ```R\n",
    "    if(condición1){\n",
    "        declaraciones(s)\n",
    "    }else if(condición2){\n",
    "        declaraciones(s)\n",
    "    }else{\n",
    "        declaraciones(s)\n",
    "    }\n",
    "    ```\n",
    "    \n",
    "    Sintaxis alternativa: declaraciones cortas de una sola linea\n",
    "    \n",
    "    ```python\n",
    "if (condición) declaración else declaración\n",
    "    ```\n",
    "\n",
    "\n",
    "Ejemplo:"
   ]
  },
  {
   "cell_type": "code",
   "execution_count": null,
   "metadata": {},
   "outputs": [],
   "source": [
    "readline(prompt=\"Ingresa tu nombre\")"
   ]
  },
  {
   "cell_type": "code",
   "execution_count": null,
   "metadata": {},
   "outputs": [],
   "source": [
    "a <- readline(prompt=\"ingrese un número: \")"
   ]
  },
  {
   "cell_type": "code",
   "execution_count": null,
   "metadata": {},
   "outputs": [],
   "source": [
    "print(a)\n",
    "print(class(a))"
   ]
  },
  {
   "cell_type": "code",
   "execution_count": null,
   "metadata": {},
   "outputs": [],
   "source": [
    "a <- as.numeric(a)\n",
    "print(a)\n",
    "print(class(a))"
   ]
  },
  {
   "cell_type": "code",
   "execution_count": null,
   "metadata": {},
   "outputs": [],
   "source": [
    "a <- as.numeric(readline(prompt=\"ingrese un número: \"))"
   ]
  },
  {
   "cell_type": "code",
   "execution_count": null,
   "metadata": {},
   "outputs": [],
   "source": [
    "IsRound <- a - round(a)==0 #si es distinto de cero no es un número entero\n",
    "IsEven <- a %% 2 ==0 #si es diferente de cero no es un número par"
   ]
  },
  {
   "cell_type": "code",
   "execution_count": null,
   "metadata": {},
   "outputs": [],
   "source": [
    "if(IsRound & IsEven){\n",
    "    print(\"El número elegido es par\")\n",
    "}else if(IsRound & !(IsEven)){\n",
    "    print(\"El número elegido es impar\")\n",
    "}else{\n",
    "    print(\"El número elegido no es entero\")\n",
    "}"
   ]
  },
  {
   "cell_type": "code",
   "execution_count": null,
   "metadata": {},
   "outputs": [],
   "source": [
    "#Ejercicio: Convertir a función\n",
    "\n",
    "esPar <- function(numero){\n",
    "    aux <- FALSE\n",
    "    if(numero %% 2 == 0) {\n",
    "        aux <- TRUE\n",
    "    }\n",
    "    return(aux)\n",
    "}"
   ]
  },
  {
   "cell_type": "code",
   "execution_count": null,
   "metadata": {
    "scrolled": true
   },
   "outputs": [],
   "source": [
    "esPar(9)"
   ]
  },
  {
   "cell_type": "markdown",
   "metadata": {},
   "source": [
    "### Ejemplo: Anualidades\n",
    "\n",
    "\n",
    "Para hallar la anualidad en función de la tasa de interés y como parámetros el principal y la cantidad de periodos, despejamos $$R(r)=\\begin{cases}\n",
    "P\\left[\\frac{r}{1-\\left(1+r\\right){}^{-n}}\\right], & \\text{para }r\\neq0\\\\\n",
    "P/n & \\text{para }r=0\n",
    "\\end{cases}$$\n",
    "\n",
    "donde\n",
    "\n",
    "• r es la tasa de interés\n",
    "\n",
    "• P es el principal o valor actual\n",
    "\n",
    "• n es el cantidad de periodos\n",
    "\n",
    "La anualidad esta en función de $r$ y tiene como parámetros $P$ y $n$ \n",
    "$$\n",
    "R(r)=P(r;P,n)\n",
    "$$"
   ]
  },
  {
   "cell_type": "code",
   "execution_count": null,
   "metadata": {},
   "outputs": [],
   "source": [
    "anualidad <- function(tasa, principal, nPeriodos){\n",
    "    if(tasa==0){\n",
    "        cuota <- principal / nPeriodos\n",
    "    }else{\n",
    "        cuota <- principal * tasa / (1- (1+tasa)^(-nPeriodos))\n",
    "    }  \n",
    "    return(cuota)\n",
    "}"
   ]
  },
  {
   "cell_type": "code",
   "execution_count": null,
   "metadata": {},
   "outputs": [],
   "source": [
    "anualidad(0.03, 5000, 12)"
   ]
  },
  {
   "cell_type": "markdown",
   "metadata": {},
   "source": [
    "## 2. Bucles\n",
    "\n",
    "### 2.1 Bucles definidos:\n",
    "\n",
    "Los límites son conocidos antes de inicializar el bucle\n",
    "    \n",
    "* Declaración: ```for loop```\n",
    "    \n",
    "    Sintaxis\n",
    "    \n",
    "    ```R \n",
    "    for (variable in vector) {\n",
    "        declaraciones(variable)\n",
    "    }\n",
    "    ```\n",
    "Nota: Por lo general las declaraciones depende de la variable\n",
    "    \n",
    "Ejemplo:\n",
    "    \n",
    "Imprimir la suma acumulada de enteros entre 0 y 5"
   ]
  },
  {
   "cell_type": "code",
   "execution_count": null,
   "metadata": {},
   "outputs": [],
   "source": [
    "suma <- 0\n",
    "for(ii in 5:42){\n",
    "    suma <- suma + ii\n",
    "}\n",
    "\n",
    "print(suma)"
   ]
  },
  {
   "cell_type": "code",
   "execution_count": null,
   "metadata": {},
   "outputs": [],
   "source": [
    "#crear una función que sume todos los términos"
   ]
  },
  {
   "cell_type": "markdown",
   "metadata": {},
   "source": [
    "### 2.2 Bucles indefinidos:\n",
    "    \n",
    "Los limites no son conocidos antes de inicializar el bucle.\n",
    "    \n",
    "* Declaración: ```while```\n",
    "    \n",
    "    Sintaxis\n",
    "        ```R \n",
    "        while (condition) {\n",
    "            declaraciones\n",
    "        }\n",
    "        ```\n",
    "    Ejemplo:\n",
    "\n",
    "La aproximación de Taylor de $\\exp(x)$ es\n",
    "   \n",
    "$$\\exp(x) = 1 + x + \\frac{x^2}{2!} + \\frac{x^3}{3!} + \\frac{x^4}{4!} + ...$$\n",
    "\n",
    "escriba un programa para calcular el orden mínimo aproximado de manera que la aproximación de $\\exp(x)$ sea precisa hasta el sexto decimal"
   ]
  },
  {
   "cell_type": "code",
   "execution_count": null,
   "metadata": {},
   "outputs": [],
   "source": [
    "appr.e <- 1 #punto de inicio \n",
    "aux <- 0 #número anterior\n",
    "tolerancia <- 10e-6\n",
    "ii <- 0 #iterador\n",
    "x <- 1 #exp(x)\n",
    "\n",
    "fctl <- 1 #factorial, se puede usar factorial(x) pero nos ahorramos tiempo computacional\n",
    "\n",
    "while(appr.e - aux > tolerancia){\n",
    "    ii <- ii + 1 \n",
    "    fctl <- fctl * ii\n",
    "    aux <- appr.e\n",
    "    appr.e <- appr.e + x ^ ii /  fctl\n",
    "}"
   ]
  },
  {
   "cell_type": "code",
   "execution_count": null,
   "metadata": {},
   "outputs": [],
   "source": [
    "print(appr.e)\n",
    "print(ii)\n",
    "print(exp(1))"
   ]
  },
  {
   "cell_type": "code",
   "execution_count": null,
   "metadata": {},
   "outputs": [],
   "source": [
    "#Ejercicio: recrear función exp(x)"
   ]
  },
  {
   "cell_type": "markdown",
   "metadata": {},
   "source": [
    "## Ejemplo : Método de Aceptación y Rechazo\n",
    "Generar la función de densidad\n",
    "\n",
    "$$\n",
    "f(x)=\\begin{cases}\n",
    "\\sqrt{a^{2}-(x+a)^{2}}/c  &\\text{para } &-2a\\leq x \\leq 0\\\\\n",
    "\\sqrt{b^{2}-(x-b)^{2}}/c  &\\text{para } & 0 < x \\leq 2b\\\\\n",
    "0                   &\\text{fuera} &\n",
    "\\end{cases}\n",
    "$$"
   ]
  },
  {
   "cell_type": "code",
   "execution_count": null,
   "metadata": {},
   "outputs": [],
   "source": [
    "# nombrar la función como dSMSM"
   ]
  },
  {
   "cell_type": "code",
   "execution_count": null,
   "metadata": {},
   "outputs": [],
   "source": [
    "#graficar"
   ]
  },
  {
   "cell_type": "markdown",
   "metadata": {},
   "source": [
    "Crear un valor aleatorio con distribución $f(x)$ usando el método de aceptación y rechazo"
   ]
  },
  {
   "cell_type": "code",
   "execution_count": null,
   "metadata": {},
   "outputs": [],
   "source": [
    "#denominar a la función generadora de aleatoria rSMSM"
   ]
  }
 ],
 "metadata": {
  "kernelspec": {
   "display_name": "R",
   "language": "R",
   "name": "ir"
  },
  "language_info": {
   "codemirror_mode": "r",
   "file_extension": ".r",
   "mimetype": "text/x-r-source",
   "name": "R",
   "pygments_lexer": "r",
   "version": "3.5.3"
  }
 },
 "nbformat": 4,
 "nbformat_minor": 2
}
