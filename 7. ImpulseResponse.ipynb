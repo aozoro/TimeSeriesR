{
 "cells": [
  {
   "cell_type": "markdown",
   "metadata": {},
   "source": [
    " # IMPULSE RESPONSE FUNCTION"
   ]
  },
  {
   "cell_type": "markdown",
   "metadata": {},
   "source": [
    "# 1. Ecuaciones en Diferencia de Primer Orden\n",
    "\n",
    "Una ecuación en diferencia es una expresión que relaciona el valor en el instante $t$ de una variable y, denotado como $y_{t},$ con sus valores previos $\\left(y_{t-1}, y_{t-2}, ...\\right)$."
   ]
  },
  {
   "cell_type": "markdown",
   "metadata": {},
   "source": [
    "Ejemplo: Una ecuación en diferencia lineal de primer orden\n",
    "\n",
    "$$\n",
    "y_t = \\phi y_{t-1} + w_t \\qquad (1)\n",
    "$$\n",
    "\n",
    "Esta es una ecuación de primer orden porque solo el primer rezago de la variable ($y_{t-1}$) aparece en la ecuación\n",
    "\n",
    "Esta ecuación expresa a $y_t$ como una función lineal de $y_{t-1}$ y $w_t$"
   ]
  },
  {
   "cell_type": "markdown",
   "metadata": {},
   "source": [
    "Ejemplo: El modelo de Goldfeld (1973)\n",
    "\n",
    "$$\n",
    "m_{t}=0.27+0.72 m_{t-1}+0.19 I_{t}-0.045 r_{b t}-0.019 r_{c t}\\qquad (2)\n",
    "$$\n",
    "\n",
    "Relaciona las siguientes variables en logaritmos\n",
    "- $m_{t}:$ Tenencia de dinero del público\n",
    "- $I_t$ Ingreso real agregado,\n",
    "- $r_{b t}:$ Tasa de interés sobre las cuentas bancarias,\n",
    "- $r_{c t}:$ Tasa de interés sobre papeles comerciales."
   ]
  },
  {
   "cell_type": "markdown",
   "metadata": {},
   "source": [
    "Este modelo \n",
    "$$\n",
    "m_{t}=0.27+0.72 m_{t-1}+0,19 I_{t}-0.045 r_{b t}-0.019 r_{c t}\n",
    "$$\n",
    "es un caso especial de \n",
    "$$\n",
    "y_t = \\phi y_{t-1} + w_t\n",
    "$$\n",
    "con\n",
    "$$\n",
    "\\begin{aligned}\n",
    "y_{t} &=m_{t} \\\\\n",
    "\\phi &=0.72 \\\\\n",
    "w_{t} &=0.27+0.19 I_{t}-0.045 r_{b t}-0.019 r_{c t}\n",
    "\\end{aligned}\n",
    "$$\n",
    "\n",
    "- En el los procesos estacionarios ARMA, la variable de entrada $w_{t}$ será considerada como una variable aleatoria, y se explorarán las implicancias de [1] sobre las propiedades estadísticas de la serie de salida $y_{t}$.\n",
    "\n",
    "\n",
    "- Primero debemos comprender el mecanismo de las ecuaciones en diferencia, siento necesario para esta discusión considerar que los valores de las variables de entrada $\\left\\{w_{1}, w_{2}, \\ldots\\right\\}$ como una secuencia deterministica de números.\n",
    "\n",
    "\n",
    "- Nuestra meta es responder la siguiente pregunta: ¿Cuáles son los efectos sobre $y$ ante cambios en el valor de $w$?"
   ]
  },
  {
   "cell_type": "markdown",
   "metadata": {},
   "source": [
    "## 1.1 Solución de una Ecuación en Diferencia mediante Sustitución Recursiva\n",
    "\n",
    "La ecuación dinámica\n",
    "$$\n",
    "y_t = \\phi y_{t-1} + w_t\n",
    "$$\n",
    "\n",
    "Partiendo desde un punto inicial conocido $y_{-1}$\n",
    "\n",
    "- Para t = 0\n",
    "  \n",
    "  $$\n",
    "  y_{0}=\\phi y_{-1}+w_{0}\n",
    "  $$\n",
    "  \n",
    "- Para $t=1$, utilizando el valor de $y_{0}$ calculado y el valor de $w$ para $t=1,$ calculamos el valor de $y$ para $t=1$\n",
    "  \n",
    "  $$ \n",
    "  \\begin{array}{l}\n",
    "  y_{1}=\\phi y_{0}+w_{1}=\\phi\\left(\\phi y_{-1}+w_{0}\\right)+w_{1} \\\\\n",
    "  y_{1}=\\phi^{2} y_{-1}+\\phi w_{0}+w_{1}\n",
    "  \\end{array}\n",
    "  $$\n",
    "  \n",
    "- Para $t=2$, utilizando el valor de $y_{1}$ calculado y el valor de $w$ para $t=2,$ calculamos el valor de $y$ para $t=2$\n",
    "  \n",
    "  $$\n",
    "  \\begin{array}{l}\n",
    "  y_{2}=\\phi y_{1}+w_{2}=\\phi\\left(\\phi^{2} y_{-1}+\\phi w_{0}+w_{1}\\right)+w_{2} \\\\\n",
    "  y_{2}=\\phi^{3} y_{-1}+\\phi^{2} w_{0}+\\phi w_{1}+w_{2}\n",
    "  \\end{array}\n",
    "  $$\n",
    "  \n",
    "- Continuando recursivamente, el valor que toma $y$ en el instante $t$ puede ser descrito como:\n",
    "\n",
    "  $$\n",
    "  y_{t}=\\phi^{t+1} y_{-1}+\\phi^{t} w_{0}+\\phi^{t-1} w_{1}+\\phi^{t-2} w_{2}+\\cdots+\\phi w_{t-1}+w_{t} \\qquad (3)\n",
    "  $$\n",
    "\n",
    "Esto procedimiento es conocido como la solución de la ecuación en diferencia [1] mediante sustitución recursiva"
   ]
  },
  {
   "cell_type": "markdown",
   "metadata": {},
   "source": [
    "## 1.2 Multiplicadores Dinámicos\n",
    "\n",
    "Objetivo: Calcular los efectos de $w_0$ sobre $y_t$.\n",
    "\n",
    "- Sabemos que $y_t$ es expresado vía [3] como una función lineal del valor inicial $y_{-1}$ y los valores históricos de $w$\n",
    "\n",
    "- El efecto sobre $y$ en el instante $t$ ante un cambio en $w$ en $t=0$, considerando inalterandos $y_{-1}$ y $w_{1}$, $w_{2}$, ... , $w_{t}$, es\n",
    "\n",
    "$$\n",
    "\\frac{\\partial y_{t}}{\\partial w_{0}}=\\phi^{t}\n",
    "$$\n",
    "\n",
    "Observación: Los cálculos serían exactamente los mismos si la simulación dinámica hubiése comenzado\n",
    "en el instante $t$ ( tomando $y_{t-1}$ como dado)\n",
    "\n",
    "Así, $y_{t+j}$ podría ser descrito como una función de $y_{t-1}$ y $w_{t}, w_{t+1}, \\ldots, w_{t+j}$\n",
    "\n",
    "$$\n",
    "\\begin{aligned}\n",
    "y_{t+j}=& \\phi^{j+1} y_{t-1}+\\phi^{j} w_{t}+\\phi^{j-1} w_{t+1}+\\phi^{j-2} w_{t+2} \\\\\n",
    "&+\\cdots+\\phi w_{t+j-1}+w_{t+j}\n",
    "\\end{aligned}\n",
    "$$\n",
    "\n",
    "Luego, el efecto de $w_{t}$ sobre $y_{t+j}$ esta dado por\n",
    "\n",
    "$$\n",
    "\\frac{\\partial y_{t+j}}{\\partial w_{t}}=\\phi^{j} \\qquad (4)\n",
    "$$\n",
    "\n",
    "Conclusiones:\n",
    "\n",
    "- El multiplicador dinámico [4] depende solo de $j$, la longitud de separación temporal entre la pertubación a la entrada ($w_t$) y el valor observado de la salida ($y_{t+j}$) \n",
    "\n",
    "\n",
    "- El multiplicador no depende t; esto es, no depende de los instantes de las observaciones por si mismas. Esto se cumple para cualquier ecuación en diferencia lineal."
   ]
  },
  {
   "cell_type": "code",
   "execution_count": null,
   "metadata": {},
   "outputs": [],
   "source": [
    "#graficar el efecto de wt de 0 a T periodos hacia adelante. Usando plot(series, type=\"h\", xlabel,ylabel) "
   ]
  },
  {
   "cell_type": "code",
   "execution_count": null,
   "metadata": {},
   "outputs": [],
   "source": [
    "#usar la función par(mfrow= dimArray) para mejorar la presentación"
   ]
  },
  {
   "cell_type": "markdown",
   "metadata": {},
   "source": [
    "- Si $|\\phi|<1,$ el sistema es estable; las consecuencias de un cambio dado en $w_{t}$ morirán finalmente.\n",
    "- Si $|\\phi|>1,$ el sistema es explosivo.\n",
    "\n",
    "En el caso límite, $\\phi=1$, la solución [9] se convierte en\n",
    "\n",
    "$$\n",
    "y_{t+j}=y_{t-1}+w_{t}+w_{t+1}+w_{t+2}+\\cdots+w_{t+j-1}+w_{t+j}\n",
    "$$\n",
    "\n",
    "Observándose que La variable de salida $y$ es la suma de las entradas históricas $w$ y un incremento unitario en $w$ ocasionará un incremento permanente unitario en $y$\n",
    "\n",
    "$$\n",
    "\\frac{\\partial y_{t+j}}{\\partial w_{t}}=1 \\quad \\text { para } j=0,1, \\ldots\n",
    "$$"
   ]
  },
  {
   "cell_type": "code",
   "execution_count": null,
   "metadata": {},
   "outputs": [],
   "source": [
    "T <- 30 #tamaño de la serie\n",
    "y <- c() #declarado como un vector\n",
    "y[1] <- 1 #dato incial\n",
    "\n",
    "phi <- 0.5\n",
    "w <- rnorm(T) #T datos que se distribuyen N(0,1)\n",
    "#w = rep(0,T)\n",
    "\n",
    "for (ii in  2:T){\n",
    "    y[ii] <- phi * y[ii-1] + w[ii]\n",
    "}\n",
    "\n",
    "plot(y, type=\"l\")"
   ]
  },
  {
   "cell_type": "code",
   "execution_count": 70,
   "metadata": {},
   "outputs": [],
   "source": [
    "#convertirlo en una función llamada dataED1\n",
    "dataED1 <- function(T,inicial, phi, w=rnorm(T)){\n",
    "    y <- c()\n",
    "    y[1] <- inicial\n",
    "    \n",
    "    for (ii in  2:T){\n",
    "    y[ii] <- phi * y[ii-1] + w[ii]\n",
    "    }\n",
    "\n",
    "    return(y)\n",
    "}"
   ]
  },
  {
   "cell_type": "code",
   "execution_count": 71,
   "metadata": {},
   "outputs": [],
   "source": [
    "#probar la función y graficar\n",
    "y <- dataED1(20, 1, -0.5)\n",
    "plot(y, type=\"l\")"
   ]
  },
  {
   "cell_type": "code",
   "execution_count": 145,
   "metadata": {},
   "outputs": [
    {
     "data": {
      "image/png": "[encoded data removed]",
      "text/plain": [
       "plot without title"
      ]
     },
     "metadata": {},
     "output_type": "display_data"
    }
   ],
   "source": [
    "T <- 20 #tamaño de la serie\n",
    "y <- c() #declarado como un vector\n",
    "y.mod <- c()\n",
    "\n",
    "y[1] <- 1 #dato incial\n",
    "y.mod[1] <- 1\n",
    "\n",
    "phi <- 0.5\n",
    "w <- rnorm(T) #T datos que se distribuyen N(0,1)\n",
    "\n",
    "#w = rep(0,T)\n",
    "\n",
    "for (ii in  2:T){\n",
    "    y[ii] <- phi * y[ii-1] + w[ii]\n",
    "}\n",
    "\n",
    "plot(y, type=\"l\")"
   ]
  },
  {
   "cell_type": "code",
   "execution_count": 146,
   "metadata": {},
   "outputs": [],
   "source": [
    "impulso <- rep(0,T)\n",
    "impulso[4] <- 1\n",
    "\n",
    "w.mod <- w + impulso\n",
    "\n",
    "for (ii in  2:T){\n",
    "    y[ii] <- phi * y[ii-1] + w[ii]\n",
    "    y.mod[ii] <- phi * y.mod[ii-1] + w.mod[ii]\n",
    "}\n",
    "\n",
    "x <- y.mod-y"
   ]
  },
  {
   "cell_type": "code",
   "execution_count": 147,
   "metadata": {
    "scrolled": false
   },
   "outputs": [
    {
     "data": {
      "image/png": "[encoded data removed]",
      "text/plain": [
       "plot without title"
      ]
     },
     "metadata": {},
     "output_type": "display_data"
    },
    {
     "data": {
      "image/png": "[encoded data removed]",
      "text/plain": [
       "plot without title"
      ]
     },
     "metadata": {},
     "output_type": "display_data"
    },
    {
     "data": {
      "image/png": "[encoded data removed]",
      "text/plain": [
       "plot without title"
      ]
     },
     "metadata": {},
     "output_type": "display_data"
    },
    {
     "data": {
      "image/png": "[encoded data removed]",
      "text/plain": [
       "plot without title"
      ]
     },
     "metadata": {},
     "output_type": "display_data"
    }
   ],
   "source": [
    "plot(y.mod , type = \"l\")\n",
    "plot(y, type=\"l\")\n",
    "plot(impulso, type=\"l\")\n",
    "plot(x, type=\"h\")"
   ]
  }
 ],
 "metadata": {
  "kernelspec": {
   "display_name": "R",
   "language": "R",
   "name": "ir"
  },
  "language_info": {
   "codemirror_mode": "r",
   "file_extension": ".r",
   "mimetype": "text/x-r-source",
   "name": "R",
   "pygments_lexer": "r",
   "version": "3.5.3"
  }
 },
 "nbformat": 4,
 "nbformat_minor": 2
}
